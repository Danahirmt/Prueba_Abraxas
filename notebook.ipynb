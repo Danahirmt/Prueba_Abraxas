{
 "cells": [
  {
   "cell_type": "code",
   "execution_count": 1,
   "metadata": {},
   "outputs": [],
   "source": [
    "from utils import *\n",
    "from carga_datos import *"
   ]
  },
  {
   "cell_type": "markdown",
   "metadata": {},
   "source": [
    "Estandarización de columna NombreCliente "
   ]
  },
  {
   "cell_type": "code",
   "execution_count": 7,
   "metadata": {},
   "outputs": [],
   "source": [
    "clientes = clientes.apply(lambda x: x.astype(str).str.lower())\n",
    "clientes['NombreCliente'] = clientes['NombreCliente'].apply(remove_accents)\n",
    "clientes['NombreCliente'] = clientes['NombreCliente'].apply(normalize)\n",
    "clientes.NombreCliente[clientes[\"Cliente_ID\"]==\"1646352\"]   = \"la chiquita\"\n",
    "clientes = clientes.drop_duplicates()\n",
    "clientes[\"Cliente_ID\"] = clientes[\"Cliente_ID\"].astype(str).astype(int)"
   ]
  },
  {
   "cell_type": "code",
   "execution_count": 8,
   "metadata": {},
   "outputs": [
    {
     "name": "stdout",
     "output_type": "stream",
     "text": [
      "(930500, 2)\n",
      "930500\n"
     ]
    }
   ],
   "source": [
    "print(clientes.shape)\n",
    "print(len(clientes.Cliente_ID.unique()))"
   ]
  },
  {
   "cell_type": "markdown",
   "metadata": {},
   "source": [
    "Estandarización de NombreProducto"
   ]
  },
  {
   "cell_type": "code",
   "execution_count": 9,
   "metadata": {},
   "outputs": [],
   "source": [
    "producto = producto.apply(lambda x: x.astype(str).str.lower())\n",
    "producto['NombreProducto'] = producto['NombreProducto'].apply(remove_accents)\n",
    "producto['NombreProducto'] = producto['NombreProducto'].apply(normalize)\n",
    "producto[\"Producto_ID\"] = producto[\"Producto_ID\"].astype(str).astype(int)"
   ]
  },
  {
   "cell_type": "markdown",
   "metadata": {},
   "source": [
    "Estandarización Town_state"
   ]
  },
  {
   "cell_type": "code",
   "execution_count": 10,
   "metadata": {},
   "outputs": [],
   "source": [
    "town_state = town_state.apply(lambda x: x.astype(str).str.lower())\n",
    "town_state['Town'] = town_state['Town'].apply(remove_accents)\n",
    "town_state['State'] = town_state['State'].apply(remove_accents)\n",
    "town_state[\"Agencia_ID\"] = town_state[\"Agencia_ID\"].astype(str).astype(int)"
   ]
  },
  {
   "cell_type": "markdown",
   "metadata": {},
   "source": [
    "Unir las bases de train y test a las bases de cliente, producto y locación "
   ]
  },
  {
   "cell_type": "code",
   "execution_count": 12,
   "metadata": {},
   "outputs": [],
   "source": [
    "train = pd.merge(train_small, clientes, how='left', on = \"Cliente_ID\")\n",
    "train = pd.merge(train, producto, how='left', on = \"Producto_ID\")\n",
    "train = pd.merge(train, town_state, how='left', on = \"Agencia_ID\")\n",
    "\n",
    "test = pd.merge(test_small, clientes, how='left', on = \"Cliente_ID\")\n",
    "test = pd.merge(test, producto, how='left', on = \"Producto_ID\")\n",
    "test = pd.merge(test, town_state, how='left', on = \"Agencia_ID\")"
   ]
  },
  {
   "cell_type": "markdown",
   "metadata": {},
   "source": [
    "Búsqueda de los productos más solicitados"
   ]
  },
  {
   "cell_type": "code",
   "execution_count": 13,
   "metadata": {
    "scrolled": true
   },
   "outputs": [
    {
     "data": {
      "text/html": [
       "<div>\n",
       "<style scoped>\n",
       "    .dataframe tbody tr th:only-of-type {\n",
       "        vertical-align: middle;\n",
       "    }\n",
       "\n",
       "    .dataframe tbody tr th {\n",
       "        vertical-align: top;\n",
       "    }\n",
       "\n",
       "    .dataframe thead th {\n",
       "        text-align: right;\n",
       "    }\n",
       "</style>\n",
       "<table border=\"1\" class=\"dataframe\">\n",
       "  <thead>\n",
       "    <tr style=\"text-align: right;\">\n",
       "      <th></th>\n",
       "      <th>NombreProducto</th>\n",
       "      <th>count</th>\n",
       "    </tr>\n",
       "  </thead>\n",
       "  <tbody>\n",
       "    <tr>\n",
       "      <td>363</td>\n",
       "      <td>nito 1p 62g bim 1278</td>\n",
       "      <td>270170</td>\n",
       "    </tr>\n",
       "    <tr>\n",
       "      <td>222</td>\n",
       "      <td>donas azucar 4p 105g bim 1250</td>\n",
       "      <td>265447</td>\n",
       "    </tr>\n",
       "    <tr>\n",
       "      <td>320</td>\n",
       "      <td>mantecadas vainilla 4p 125g bim 1240</td>\n",
       "      <td>244262</td>\n",
       "    </tr>\n",
       "    <tr>\n",
       "      <td>382</td>\n",
       "      <td>pan blanco 640g bim 2233</td>\n",
       "      <td>244108</td>\n",
       "    </tr>\n",
       "    <tr>\n",
       "      <td>499</td>\n",
       "      <td>rebanada 2p 55g bim 1284</td>\n",
       "      <td>227705</td>\n",
       "    </tr>\n",
       "  </tbody>\n",
       "</table>\n",
       "</div>"
      ],
      "text/plain": [
       "                           NombreProducto   count\n",
       "363                  nito 1p 62g bim 1278  270170\n",
       "222         donas azucar 4p 105g bim 1250  265447\n",
       "320  mantecadas vainilla 4p 125g bim 1240  244262\n",
       "382              pan blanco 640g bim 2233  244108\n",
       "499              rebanada 2p 55g bim 1284  227705"
      ]
     },
     "execution_count": 13,
     "metadata": {},
     "output_type": "execute_result"
    }
   ],
   "source": [
    "train.groupby('NombreProducto').NombreProducto.count().reset_index(name='count').sort_values(['count'], ascending=False).head(5)"
   ]
  },
  {
   "cell_type": "markdown",
   "metadata": {},
   "source": [
    "Búsqueda de los principales clientes "
   ]
  },
  {
   "cell_type": "code",
   "execution_count": 14,
   "metadata": {},
   "outputs": [
    {
     "data": {
      "text/html": [
       "<div>\n",
       "<style scoped>\n",
       "    .dataframe tbody tr th:only-of-type {\n",
       "        vertical-align: middle;\n",
       "    }\n",
       "\n",
       "    .dataframe tbody tr th {\n",
       "        vertical-align: top;\n",
       "    }\n",
       "\n",
       "    .dataframe thead th {\n",
       "        text-align: right;\n",
       "    }\n",
       "</style>\n",
       "<table border=\"1\" class=\"dataframe\">\n",
       "  <thead>\n",
       "    <tr style=\"text-align: right;\">\n",
       "      <th></th>\n",
       "      <th>NombreCliente</th>\n",
       "      <th>count</th>\n",
       "    </tr>\n",
       "  </thead>\n",
       "  <tbody>\n",
       "    <tr>\n",
       "      <td>22168</td>\n",
       "      <td>no identificado</td>\n",
       "      <td>1159270</td>\n",
       "    </tr>\n",
       "    <tr>\n",
       "      <td>18766</td>\n",
       "      <td>lupita</td>\n",
       "      <td>80268</td>\n",
       "    </tr>\n",
       "    <tr>\n",
       "      <td>16869</td>\n",
       "      <td>la ventanita</td>\n",
       "      <td>66346</td>\n",
       "    </tr>\n",
       "    <tr>\n",
       "      <td>19460</td>\n",
       "      <td>mary</td>\n",
       "      <td>42649</td>\n",
       "    </tr>\n",
       "    <tr>\n",
       "      <td>16344</td>\n",
       "      <td>la pasadita</td>\n",
       "      <td>37750</td>\n",
       "    </tr>\n",
       "  </tbody>\n",
       "</table>\n",
       "</div>"
      ],
      "text/plain": [
       "         NombreCliente    count\n",
       "22168  no identificado  1159270\n",
       "18766           lupita    80268\n",
       "16869     la ventanita    66346\n",
       "19460             mary    42649\n",
       "16344      la pasadita    37750"
      ]
     },
     "execution_count": 14,
     "metadata": {},
     "output_type": "execute_result"
    }
   ],
   "source": [
    "train.groupby('NombreCliente').NombreCliente.count().reset_index(name='count').sort_values(['count'], ascending=False).head(5)\n"
   ]
  },
  {
   "cell_type": "markdown",
   "metadata": {},
   "source": [
    "Búsqueda de la agencias con mayor terreno"
   ]
  },
  {
   "cell_type": "code",
   "execution_count": 16,
   "metadata": {},
   "outputs": [
    {
     "data": {
      "text/html": [
       "<div>\n",
       "<style scoped>\n",
       "    .dataframe tbody tr th:only-of-type {\n",
       "        vertical-align: middle;\n",
       "    }\n",
       "\n",
       "    .dataframe tbody tr th {\n",
       "        vertical-align: top;\n",
       "    }\n",
       "\n",
       "    .dataframe thead th {\n",
       "        text-align: right;\n",
       "    }\n",
       "</style>\n",
       "<table border=\"1\" class=\"dataframe\">\n",
       "  <thead>\n",
       "    <tr style=\"text-align: right;\">\n",
       "      <th></th>\n",
       "      <th>Agencia_ID</th>\n",
       "      <th>count</th>\n",
       "    </tr>\n",
       "  </thead>\n",
       "  <tbody>\n",
       "    <tr>\n",
       "      <td>12</td>\n",
       "      <td>1123</td>\n",
       "      <td>628028</td>\n",
       "    </tr>\n",
       "    <tr>\n",
       "      <td>14</td>\n",
       "      <td>1126</td>\n",
       "      <td>494583</td>\n",
       "    </tr>\n",
       "    <tr>\n",
       "      <td>6</td>\n",
       "      <td>1117</td>\n",
       "      <td>477355</td>\n",
       "    </tr>\n",
       "    <tr>\n",
       "      <td>10</td>\n",
       "      <td>1121</td>\n",
       "      <td>464152</td>\n",
       "    </tr>\n",
       "    <tr>\n",
       "      <td>5</td>\n",
       "      <td>1116</td>\n",
       "      <td>414730</td>\n",
       "    </tr>\n",
       "    <tr>\n",
       "      <td>17</td>\n",
       "      <td>1130</td>\n",
       "      <td>401189</td>\n",
       "    </tr>\n",
       "    <tr>\n",
       "      <td>9</td>\n",
       "      <td>1120</td>\n",
       "      <td>400331</td>\n",
       "    </tr>\n",
       "    <tr>\n",
       "      <td>18</td>\n",
       "      <td>1137</td>\n",
       "      <td>397904</td>\n",
       "    </tr>\n",
       "    <tr>\n",
       "      <td>11</td>\n",
       "      <td>1122</td>\n",
       "      <td>394903</td>\n",
       "    </tr>\n",
       "    <tr>\n",
       "      <td>1</td>\n",
       "      <td>1111</td>\n",
       "      <td>386466</td>\n",
       "    </tr>\n",
       "  </tbody>\n",
       "</table>\n",
       "</div>"
      ],
      "text/plain": [
       "    Agencia_ID   count\n",
       "12        1123  628028\n",
       "14        1126  494583\n",
       "6         1117  477355\n",
       "10        1121  464152\n",
       "5         1116  414730\n",
       "17        1130  401189\n",
       "9         1120  400331\n",
       "18        1137  397904\n",
       "11        1122  394903\n",
       "1         1111  386466"
      ]
     },
     "execution_count": 16,
     "metadata": {},
     "output_type": "execute_result"
    }
   ],
   "source": [
    "train.groupby('Agencia_ID').Agencia_ID.count().reset_index(name='count').sort_values(['count'], ascending=False).head(10)\n"
   ]
  },
  {
   "cell_type": "markdown",
   "metadata": {},
   "source": [
    "Relacionar cliente-agencia-producto más solicitado"
   ]
  },
  {
   "cell_type": "code",
   "execution_count": 17,
   "metadata": {},
   "outputs": [],
   "source": [
    "contador = train.groupby(['NombreCliente','Agencia_ID', 'NombreProducto']).NombreProducto.count().reset_index(name='count').sort_values(['count'], ascending=False)"
   ]
  },
  {
   "cell_type": "code",
   "execution_count": 18,
   "metadata": {},
   "outputs": [
    {
     "data": {
      "text/html": [
       "<div>\n",
       "<style scoped>\n",
       "    .dataframe tbody tr th:only-of-type {\n",
       "        vertical-align: middle;\n",
       "    }\n",
       "\n",
       "    .dataframe tbody tr th {\n",
       "        vertical-align: top;\n",
       "    }\n",
       "\n",
       "    .dataframe thead th {\n",
       "        text-align: right;\n",
       "    }\n",
       "</style>\n",
       "<table border=\"1\" class=\"dataframe\">\n",
       "  <thead>\n",
       "    <tr style=\"text-align: right;\">\n",
       "      <th></th>\n",
       "      <th>NombreCliente</th>\n",
       "      <th>Agencia_ID</th>\n",
       "      <th>NombreProducto</th>\n",
       "      <th>count</th>\n",
       "    </tr>\n",
       "  </thead>\n",
       "  <tbody>\n",
       "    <tr>\n",
       "      <td>1182175</td>\n",
       "      <td>lupita</td>\n",
       "      <td>1126</td>\n",
       "      <td>nito 1p 62g bim 1278</td>\n",
       "      <td>364</td>\n",
       "    </tr>\n",
       "    <tr>\n",
       "      <td>1043134</td>\n",
       "      <td>la ventanita</td>\n",
       "      <td>1122</td>\n",
       "      <td>nito 1p 62g bim 1278</td>\n",
       "      <td>329</td>\n",
       "    </tr>\n",
       "    <tr>\n",
       "      <td>1043125</td>\n",
       "      <td>la ventanita</td>\n",
       "      <td>1122</td>\n",
       "      <td>donas azucar 4p 105g bim 1250</td>\n",
       "      <td>325</td>\n",
       "    </tr>\n",
       "    <tr>\n",
       "      <td>1182176</td>\n",
       "      <td>lupita</td>\n",
       "      <td>1126</td>\n",
       "      <td>pan blanco 640g bim 2233</td>\n",
       "      <td>319</td>\n",
       "    </tr>\n",
       "    <tr>\n",
       "      <td>1182173</td>\n",
       "      <td>lupita</td>\n",
       "      <td>1126</td>\n",
       "      <td>mantecadas vainilla 4p 125g bim 1240</td>\n",
       "      <td>314</td>\n",
       "    </tr>\n",
       "    <tr>\n",
       "      <td>1042795</td>\n",
       "      <td>la ventanita</td>\n",
       "      <td>1119</td>\n",
       "      <td>nito 1p 62g bim 1278</td>\n",
       "      <td>309</td>\n",
       "    </tr>\n",
       "    <tr>\n",
       "      <td>1181927</td>\n",
       "      <td>lupita</td>\n",
       "      <td>1123</td>\n",
       "      <td>nito 1p 62g bim 1278</td>\n",
       "      <td>309</td>\n",
       "    </tr>\n",
       "    <tr>\n",
       "      <td>1182190</td>\n",
       "      <td>lupita</td>\n",
       "      <td>1126</td>\n",
       "      <td>rebanada 2p 55g bim 1284</td>\n",
       "      <td>308</td>\n",
       "    </tr>\n",
       "    <tr>\n",
       "      <td>1182166</td>\n",
       "      <td>lupita</td>\n",
       "      <td>1126</td>\n",
       "      <td>donas azucar 4p 105g bim 1250</td>\n",
       "      <td>301</td>\n",
       "    </tr>\n",
       "    <tr>\n",
       "      <td>1043149</td>\n",
       "      <td>la ventanita</td>\n",
       "      <td>1122</td>\n",
       "      <td>rebanada 2p 55g bim 1284</td>\n",
       "      <td>297</td>\n",
       "    </tr>\n",
       "    <tr>\n",
       "      <td>1042672</td>\n",
       "      <td>la ventanita</td>\n",
       "      <td>1117</td>\n",
       "      <td>nito 1p 62g bim 1278</td>\n",
       "      <td>297</td>\n",
       "    </tr>\n",
       "    <tr>\n",
       "      <td>1042793</td>\n",
       "      <td>la ventanita</td>\n",
       "      <td>1119</td>\n",
       "      <td>mantecadas vainilla 4p 125g bim 1240</td>\n",
       "      <td>295</td>\n",
       "    </tr>\n",
       "    <tr>\n",
       "      <td>1043132</td>\n",
       "      <td>la ventanita</td>\n",
       "      <td>1122</td>\n",
       "      <td>mantecadas vainilla 4p 125g bim 1240</td>\n",
       "      <td>290</td>\n",
       "    </tr>\n",
       "    <tr>\n",
       "      <td>1182177</td>\n",
       "      <td>lupita</td>\n",
       "      <td>1126</td>\n",
       "      <td>pan blanco chico 360g bim 1109</td>\n",
       "      <td>290</td>\n",
       "    </tr>\n",
       "    <tr>\n",
       "      <td>1182168</td>\n",
       "      <td>lupita</td>\n",
       "      <td>1126</td>\n",
       "      <td>donitas espolvoreadas 6p 105g bim 1242</td>\n",
       "      <td>289</td>\n",
       "    </tr>\n",
       "    <tr>\n",
       "      <td>1043671</td>\n",
       "      <td>la ventanita</td>\n",
       "      <td>1130</td>\n",
       "      <td>nito 1p 62g bim 1278</td>\n",
       "      <td>285</td>\n",
       "    </tr>\n",
       "    <tr>\n",
       "      <td>1042783</td>\n",
       "      <td>la ventanita</td>\n",
       "      <td>1119</td>\n",
       "      <td>donas azucar 4p 105g bim 1250</td>\n",
       "      <td>284</td>\n",
       "    </tr>\n",
       "    <tr>\n",
       "      <td>1181350</td>\n",
       "      <td>lupita</td>\n",
       "      <td>1117</td>\n",
       "      <td>nito 1p 62g bim 1278</td>\n",
       "      <td>282</td>\n",
       "    </tr>\n",
       "    <tr>\n",
       "      <td>1042796</td>\n",
       "      <td>la ventanita</td>\n",
       "      <td>1119</td>\n",
       "      <td>pan blanco 640g bim 2233</td>\n",
       "      <td>280</td>\n",
       "    </tr>\n",
       "    <tr>\n",
       "      <td>1181959</td>\n",
       "      <td>lupita</td>\n",
       "      <td>1123</td>\n",
       "      <td>rebanada 2p 55g bim 1284</td>\n",
       "      <td>277</td>\n",
       "    </tr>\n",
       "  </tbody>\n",
       "</table>\n",
       "</div>"
      ],
      "text/plain": [
       "        NombreCliente  Agencia_ID                          NombreProducto  \\\n",
       "1182175        lupita        1126                    nito 1p 62g bim 1278   \n",
       "1043134  la ventanita        1122                    nito 1p 62g bim 1278   \n",
       "1043125  la ventanita        1122           donas azucar 4p 105g bim 1250   \n",
       "1182176        lupita        1126                pan blanco 640g bim 2233   \n",
       "1182173        lupita        1126    mantecadas vainilla 4p 125g bim 1240   \n",
       "1042795  la ventanita        1119                    nito 1p 62g bim 1278   \n",
       "1181927        lupita        1123                    nito 1p 62g bim 1278   \n",
       "1182190        lupita        1126                rebanada 2p 55g bim 1284   \n",
       "1182166        lupita        1126           donas azucar 4p 105g bim 1250   \n",
       "1043149  la ventanita        1122                rebanada 2p 55g bim 1284   \n",
       "1042672  la ventanita        1117                    nito 1p 62g bim 1278   \n",
       "1042793  la ventanita        1119    mantecadas vainilla 4p 125g bim 1240   \n",
       "1043132  la ventanita        1122    mantecadas vainilla 4p 125g bim 1240   \n",
       "1182177        lupita        1126          pan blanco chico 360g bim 1109   \n",
       "1182168        lupita        1126  donitas espolvoreadas 6p 105g bim 1242   \n",
       "1043671  la ventanita        1130                    nito 1p 62g bim 1278   \n",
       "1042783  la ventanita        1119           donas azucar 4p 105g bim 1250   \n",
       "1181350        lupita        1117                    nito 1p 62g bim 1278   \n",
       "1042796  la ventanita        1119                pan blanco 640g bim 2233   \n",
       "1181959        lupita        1123                rebanada 2p 55g bim 1284   \n",
       "\n",
       "         count  \n",
       "1182175    364  \n",
       "1043134    329  \n",
       "1043125    325  \n",
       "1182176    319  \n",
       "1182173    314  \n",
       "1042795    309  \n",
       "1181927    309  \n",
       "1182190    308  \n",
       "1182166    301  \n",
       "1043149    297  \n",
       "1042672    297  \n",
       "1042793    295  \n",
       "1043132    290  \n",
       "1182177    290  \n",
       "1182168    289  \n",
       "1043671    285  \n",
       "1042783    284  \n",
       "1181350    282  \n",
       "1042796    280  \n",
       "1181959    277  "
      ]
     },
     "execution_count": 18,
     "metadata": {},
     "output_type": "execute_result"
    }
   ],
   "source": [
    "contador[contador[\"NombreCliente\"] != \"no identificado\"].head(20)"
   ]
  },
  {
   "cell_type": "markdown",
   "metadata": {},
   "source": [
    "Notar que los **productos** *nito*, *donas azucar* y los **clientes** *lupita*, *la ventanita*, así como las **agencias** *1126* y *1122* son variables predominantes en la base de datos"
   ]
  },
  {
   "cell_type": "markdown",
   "metadata": {},
   "source": [
    "Cliente: Lupita\n",
    "\n",
    "Agencia: 1126\n",
    "\n",
    "Producto: nito 1p 62g bim 1278"
   ]
  },
  {
   "cell_type": "code",
   "execution_count": 19,
   "metadata": {},
   "outputs": [],
   "source": [
    "lupita_nito_1126 = train[(train['NombreCliente'] == \"lupita\") & (train['Agencia_ID'] == 1126) & (train['NombreProducto'] == \"nito 1p 62g bim 1278\") ]"
   ]
  },
  {
   "cell_type": "code",
   "execution_count": 20,
   "metadata": {},
   "outputs": [],
   "source": [
    "lupita_nito_1126 =lupita_nito_1126.drop(['Ruta_SAK', 'Cliente_ID'], axis = 'columns')\n",
    "lupita_nito_1126=lupita_nito_1126.groupby(['Semana', 'NombreProducto', 'NombreCliente','Agencia_ID', 'Canal_ID','Producto_ID', 'Town','State']).agg({'Venta_uni_hoy':'sum',\n",
    "                                                       'Dev_uni_proxima':'sum', \n",
    "                                                       'Demanda_uni_equil':'sum', \n",
    "                                                        'Venta_hoy':'mean',\n",
    "                                                       'Dev_proxima':'mean'\n",
    "                                                      })\n",
    "\n",
    "lupita_nito_1126.reset_index(inplace=True)"
   ]
  },
  {
   "cell_type": "markdown",
   "metadata": {},
   "source": [
    "Cliente: La ventanita\n",
    "\n",
    "Agencia: 1122\n",
    "\n",
    "Producto: nito 1p 62g bim 1278\t"
   ]
  },
  {
   "cell_type": "code",
   "execution_count": 21,
   "metadata": {},
   "outputs": [],
   "source": [
    "ventanita_nito_1122 = train[(train['NombreCliente'] == \"la ventanita\") & (train['Agencia_ID'] == 1122) & (train['NombreProducto'] == \"nito 1p 62g bim 1278\") ]"
   ]
  },
  {
   "cell_type": "code",
   "execution_count": 22,
   "metadata": {},
   "outputs": [],
   "source": [
    "ventanita_nito_1122 = train[(train['NombreCliente'] == \"la ventanita\") & (train['Agencia_ID'] == 1122) & (train['NombreProducto'] == \"nito 1p 62g bim 1278\") ]\n",
    "\n",
    "ventanita_nito_1122 =ventanita_nito_1122.drop(['Ruta_SAK', 'Cliente_ID'], axis = 'columns')\n",
    "ventanita_nito_1122=ventanita_nito_1122.groupby(['Semana', 'NombreProducto', 'NombreCliente','Agencia_ID', 'Canal_ID','Producto_ID', 'Town','State']).agg({'Venta_uni_hoy':'sum',\n",
    "                                                       'Dev_uni_proxima':'sum', \n",
    "                                                       'Demanda_uni_equil':'sum', \n",
    "                                                        'Venta_hoy':'mean',\n",
    "                                                       'Dev_proxima':'mean'\n",
    "                                                      })\n",
    "\n",
    "ventanita_nito_1122.reset_index(inplace=True)  "
   ]
  },
  {
   "cell_type": "markdown",
   "metadata": {},
   "source": [
    "Cliente: La ventanita\n",
    "\n",
    "Agencia: 1122\n",
    "\n",
    "Producto: donas azucar 4p 105g bim 1250\t"
   ]
  },
  {
   "cell_type": "code",
   "execution_count": 23,
   "metadata": {},
   "outputs": [],
   "source": [
    "ventanita_donas_1122 = train[(train['NombreCliente'] == \"la ventanita\") & (train['Agencia_ID'] == 1122) & (train['NombreProducto'] == \"donas azucar 4p 105g bim 1250\") ]"
   ]
  },
  {
   "cell_type": "code",
   "execution_count": 25,
   "metadata": {},
   "outputs": [],
   "source": [
    "ventanita_donas_1122 =ventanita_donas_1122.drop(['Ruta_SAK', 'Cliente_ID'], axis = 'columns')\n",
    "ventanita_donas_1122=ventanita_donas_1122.groupby(['Semana', 'NombreProducto', 'NombreCliente','Agencia_ID', 'Canal_ID','Producto_ID', 'Town','State']).agg({'Venta_uni_hoy':'sum',\n",
    "                                                       'Dev_uni_proxima':'sum', \n",
    "                                                       'Demanda_uni_equil':'sum', \n",
    "                                                        'Venta_hoy':'mean',\n",
    "                                                       'Dev_proxima':'mean'\n",
    "                                                      })\n",
    "\n",
    "ventanita_donas_1122.reset_index(inplace=True)  "
   ]
  },
  {
   "cell_type": "markdown",
   "metadata": {},
   "source": [
    "Cliente: Lupita\n",
    "\n",
    "Agencia: 1126\n",
    "\n",
    "Producto: donas azucar 4p 105g bim 1250\t"
   ]
  },
  {
   "cell_type": "code",
   "execution_count": 26,
   "metadata": {},
   "outputs": [],
   "source": [
    "\n",
    "\n",
    "lupita_donas_1126 = train[(train['NombreCliente'] == \"lupita\") & (train['Agencia_ID'] == 1126) & (train['NombreProducto'] == \"donas azucar 4p 105g bim 1250\") ]\n",
    "lupita_donas_1126 =lupita_donas_1126.drop(['Ruta_SAK', 'Cliente_ID'], axis = 'columns')\n",
    "lupita_donas_1126=lupita_donas_1126.groupby(['Semana', 'NombreProducto', 'NombreCliente','Agencia_ID', 'Canal_ID','Producto_ID', 'Town','State']).agg({'Venta_uni_hoy':'sum',\n",
    "                                                       'Dev_uni_proxima':'sum', \n",
    "                                                       'Demanda_uni_equil':'sum', \n",
    "                                                        'Venta_hoy':'mean',\n",
    "                                                       'Dev_proxima':'mean'\n",
    "                                                      })\n",
    "\n",
    "lupita_donas_1126.reset_index(inplace=True) "
   ]
  },
  {
   "cell_type": "markdown",
   "metadata": {},
   "source": [
    "### Series de tiempo "
   ]
  },
  {
   "cell_type": "code",
   "execution_count": 27,
   "metadata": {},
   "outputs": [
    {
     "data": {
      "image/png": "[encoded data removed]",
      "text/plain": [
       "<Figure size 432x288 with 1 Axes>"
      ]
     },
     "metadata": {
      "needs_background": "light"
     },
     "output_type": "display_data"
    },
    {
     "data": {
      "image/png": "[encoded data removed]",
      "text/plain": [
       "<Figure size 432x288 with 1 Axes>"
      ]
     },
     "metadata": {
      "needs_background": "light"
     },
     "output_type": "display_data"
    }
   ],
   "source": [
    "# lupita points\n",
    "x1 = lupita_nito_1126.Semana.values\n",
    "y1 = lupita_nito_1126.Demanda_uni_equil.values\n",
    "plt.plot(x1, y1, label = \"Lupita 1126\")\n",
    "# La ventanita points\n",
    "x2 = ventanita_nito_1122.Semana.values\n",
    "y2 = ventanita_nito_1122.Demanda_uni_equil.values\n",
    "plt.plot(x2, y2, label = \"La ventanita 1122\")\n",
    "# Set axis.\n",
    "plt.xlabel('Semana')\n",
    "plt.ylabel('Demanda')\n",
    "# Set a title\n",
    "plt.title('Serie de tiempo \\n Producto: nito 1p 62g bim 1278')\n",
    "# show a legend on the plot\n",
    "plt.legend()\n",
    "#\n",
    "plt.show()\n",
    "\n",
    "# lupita points\n",
    "x1 = lupita_donas_1126.Semana.values\n",
    "y1 = lupita_donas_1126.Demanda_uni_equil.values\n",
    "plt.plot(x1, y1, label = \"Lupita 1126\")\n",
    "# La ventanita points\n",
    "x2 = ventanita_donas_1122.Semana.values\n",
    "y2 = ventanita_donas_1122.Demanda_uni_equil.values\n",
    "plt.plot(x2, y2, label = \"La ventanita 1122\")\n",
    "# Set axis.\n",
    "plt.xlabel('Semana')\n",
    "plt.ylabel('Demanda')\n",
    "# Set a title\n",
    "plt.title('Serie de tiempo \\n Producto: donas azucar 4p 105g bim 1250')\n",
    "# show a legend on the plot\n",
    "plt.legend()\n",
    "#\n",
    "plt.show()\n"
   ]
  },
  {
   "cell_type": "markdown",
   "metadata": {},
   "source": [
    "### Muestra de clientes que representan una agencia"
   ]
  },
  {
   "cell_type": "code",
   "execution_count": 28,
   "metadata": {},
   "outputs": [
    {
     "data": {
      "text/plain": [
       "array([1110, 1111, 1112, 1113, 1114, 1116, 1117, 1118, 1119, 1120, 1121,\n",
       "       1122, 1123, 1124, 1126, 1127, 1129, 1130, 1137, 1138, 1139, 1140,\n",
       "       1142, 1143, 1146, 1147, 1150, 1152, 1153, 1155, 1156, 1159, 1160,\n",
       "       1164, 1165, 1167, 1168, 1170, 1171, 1172, 1173])"
      ]
     },
     "execution_count": 28,
     "metadata": {},
     "output_type": "execute_result"
    }
   ],
   "source": [
    "train.Agencia_ID.unique()"
   ]
  },
  {
   "cell_type": "code",
   "execution_count": 29,
   "metadata": {},
   "outputs": [],
   "source": [
    "dist_agencias = train.groupby('Agencia_ID').Agencia_ID.count().reset_index(name='count').sort_values(['count'], ascending=False)"
   ]
  },
  {
   "cell_type": "code",
   "execution_count": 30,
   "metadata": {},
   "outputs": [],
   "source": [
    "input = list(train.groupby(['Agencia_ID','NombreCliente']).groups.keys())\n",
    "d = defaultdict(list)\n",
    "for v, k in input: d[v].append(k)\n",
    "    \n",
    "k_count = {}\n",
    "for key in d.keys():\n",
    "    k_count[key] = len(d[key])"
   ]
  },
  {
   "cell_type": "code",
   "execution_count": 31,
   "metadata": {},
   "outputs": [],
   "source": [
    "data_dic = {'Agencia_ID': list(k_count.keys()), 'NumeroClientes': list(k_count.values())}\n",
    "dist_agencias = pd.merge(dist_agencias, pd.DataFrame(data_dic), on = \"Agencia_ID\")"
   ]
  },
  {
   "cell_type": "code",
   "execution_count": 32,
   "metadata": {},
   "outputs": [
    {
     "data": {
      "text/html": [
       "<div>\n",
       "<style scoped>\n",
       "    .dataframe tbody tr th:only-of-type {\n",
       "        vertical-align: middle;\n",
       "    }\n",
       "\n",
       "    .dataframe tbody tr th {\n",
       "        vertical-align: top;\n",
       "    }\n",
       "\n",
       "    .dataframe thead th {\n",
       "        text-align: right;\n",
       "    }\n",
       "</style>\n",
       "<table border=\"1\" class=\"dataframe\">\n",
       "  <thead>\n",
       "    <tr style=\"text-align: right;\">\n",
       "      <th></th>\n",
       "      <th>Agencia_ID</th>\n",
       "      <th>count</th>\n",
       "      <th>NumeroClientes</th>\n",
       "    </tr>\n",
       "  </thead>\n",
       "  <tbody>\n",
       "    <tr>\n",
       "      <td>40</td>\n",
       "      <td>1160</td>\n",
       "      <td>26</td>\n",
       "      <td>2</td>\n",
       "    </tr>\n",
       "    <tr>\n",
       "      <td>38</td>\n",
       "      <td>1171</td>\n",
       "      <td>4274</td>\n",
       "      <td>33</td>\n",
       "    </tr>\n",
       "    <tr>\n",
       "      <td>37</td>\n",
       "      <td>1173</td>\n",
       "      <td>10162</td>\n",
       "      <td>79</td>\n",
       "    </tr>\n",
       "    <tr>\n",
       "      <td>35</td>\n",
       "      <td>1172</td>\n",
       "      <td>14483</td>\n",
       "      <td>85</td>\n",
       "    </tr>\n",
       "    <tr>\n",
       "      <td>24</td>\n",
       "      <td>1129</td>\n",
       "      <td>42591</td>\n",
       "      <td>93</td>\n",
       "    </tr>\n",
       "    <tr>\n",
       "      <td>33</td>\n",
       "      <td>1170</td>\n",
       "      <td>19456</td>\n",
       "      <td>96</td>\n",
       "    </tr>\n",
       "    <tr>\n",
       "      <td>28</td>\n",
       "      <td>1168</td>\n",
       "      <td>37135</td>\n",
       "      <td>112</td>\n",
       "    </tr>\n",
       "    <tr>\n",
       "      <td>25</td>\n",
       "      <td>1114</td>\n",
       "      <td>41305</td>\n",
       "      <td>119</td>\n",
       "    </tr>\n",
       "    <tr>\n",
       "      <td>23</td>\n",
       "      <td>1142</td>\n",
       "      <td>43259</td>\n",
       "      <td>120</td>\n",
       "    </tr>\n",
       "    <tr>\n",
       "      <td>34</td>\n",
       "      <td>1159</td>\n",
       "      <td>15705</td>\n",
       "      <td>149</td>\n",
       "    </tr>\n",
       "    <tr>\n",
       "      <td>30</td>\n",
       "      <td>1155</td>\n",
       "      <td>23759</td>\n",
       "      <td>164</td>\n",
       "    </tr>\n",
       "    <tr>\n",
       "      <td>31</td>\n",
       "      <td>1147</td>\n",
       "      <td>21361</td>\n",
       "      <td>193</td>\n",
       "    </tr>\n",
       "    <tr>\n",
       "      <td>21</td>\n",
       "      <td>1146</td>\n",
       "      <td>49699</td>\n",
       "      <td>257</td>\n",
       "    </tr>\n",
       "    <tr>\n",
       "      <td>39</td>\n",
       "      <td>1167</td>\n",
       "      <td>3759</td>\n",
       "      <td>268</td>\n",
       "    </tr>\n",
       "    <tr>\n",
       "      <td>36</td>\n",
       "      <td>1156</td>\n",
       "      <td>13083</td>\n",
       "      <td>285</td>\n",
       "    </tr>\n",
       "    <tr>\n",
       "      <td>20</td>\n",
       "      <td>1152</td>\n",
       "      <td>58951</td>\n",
       "      <td>304</td>\n",
       "    </tr>\n",
       "    <tr>\n",
       "      <td>19</td>\n",
       "      <td>1150</td>\n",
       "      <td>96302</td>\n",
       "      <td>401</td>\n",
       "    </tr>\n",
       "    <tr>\n",
       "      <td>32</td>\n",
       "      <td>1164</td>\n",
       "      <td>20423</td>\n",
       "      <td>487</td>\n",
       "    </tr>\n",
       "    <tr>\n",
       "      <td>26</td>\n",
       "      <td>1143</td>\n",
       "      <td>39785</td>\n",
       "      <td>732</td>\n",
       "    </tr>\n",
       "    <tr>\n",
       "      <td>29</td>\n",
       "      <td>1165</td>\n",
       "      <td>24247</td>\n",
       "      <td>824</td>\n",
       "    </tr>\n",
       "    <tr>\n",
       "      <td>27</td>\n",
       "      <td>1139</td>\n",
       "      <td>37323</td>\n",
       "      <td>887</td>\n",
       "    </tr>\n",
       "    <tr>\n",
       "      <td>22</td>\n",
       "      <td>1110</td>\n",
       "      <td>47030</td>\n",
       "      <td>1145</td>\n",
       "    </tr>\n",
       "    <tr>\n",
       "      <td>18</td>\n",
       "      <td>1113</td>\n",
       "      <td>173302</td>\n",
       "      <td>1348</td>\n",
       "    </tr>\n",
       "    <tr>\n",
       "      <td>17</td>\n",
       "      <td>1112</td>\n",
       "      <td>304293</td>\n",
       "      <td>1376</td>\n",
       "    </tr>\n",
       "    <tr>\n",
       "      <td>16</td>\n",
       "      <td>1138</td>\n",
       "      <td>304710</td>\n",
       "      <td>1432</td>\n",
       "    </tr>\n",
       "    <tr>\n",
       "      <td>9</td>\n",
       "      <td>1111</td>\n",
       "      <td>386466</td>\n",
       "      <td>1782</td>\n",
       "    </tr>\n",
       "    <tr>\n",
       "      <td>14</td>\n",
       "      <td>1124</td>\n",
       "      <td>333345</td>\n",
       "      <td>1821</td>\n",
       "    </tr>\n",
       "    <tr>\n",
       "      <td>13</td>\n",
       "      <td>1127</td>\n",
       "      <td>341861</td>\n",
       "      <td>1853</td>\n",
       "    </tr>\n",
       "    <tr>\n",
       "      <td>6</td>\n",
       "      <td>1120</td>\n",
       "      <td>400331</td>\n",
       "      <td>2023</td>\n",
       "    </tr>\n",
       "    <tr>\n",
       "      <td>7</td>\n",
       "      <td>1137</td>\n",
       "      <td>397904</td>\n",
       "      <td>2068</td>\n",
       "    </tr>\n",
       "    <tr>\n",
       "      <td>15</td>\n",
       "      <td>1118</td>\n",
       "      <td>308884</td>\n",
       "      <td>2132</td>\n",
       "    </tr>\n",
       "    <tr>\n",
       "      <td>3</td>\n",
       "      <td>1121</td>\n",
       "      <td>464152</td>\n",
       "      <td>2209</td>\n",
       "    </tr>\n",
       "    <tr>\n",
       "      <td>4</td>\n",
       "      <td>1116</td>\n",
       "      <td>414730</td>\n",
       "      <td>2263</td>\n",
       "    </tr>\n",
       "    <tr>\n",
       "      <td>10</td>\n",
       "      <td>1153</td>\n",
       "      <td>378481</td>\n",
       "      <td>2371</td>\n",
       "    </tr>\n",
       "    <tr>\n",
       "      <td>5</td>\n",
       "      <td>1130</td>\n",
       "      <td>401189</td>\n",
       "      <td>2375</td>\n",
       "    </tr>\n",
       "    <tr>\n",
       "      <td>11</td>\n",
       "      <td>1119</td>\n",
       "      <td>355878</td>\n",
       "      <td>2492</td>\n",
       "    </tr>\n",
       "    <tr>\n",
       "      <td>8</td>\n",
       "      <td>1122</td>\n",
       "      <td>394903</td>\n",
       "      <td>2690</td>\n",
       "    </tr>\n",
       "    <tr>\n",
       "      <td>12</td>\n",
       "      <td>1140</td>\n",
       "      <td>349905</td>\n",
       "      <td>2741</td>\n",
       "    </tr>\n",
       "    <tr>\n",
       "      <td>2</td>\n",
       "      <td>1117</td>\n",
       "      <td>477355</td>\n",
       "      <td>2900</td>\n",
       "    </tr>\n",
       "    <tr>\n",
       "      <td>1</td>\n",
       "      <td>1126</td>\n",
       "      <td>494583</td>\n",
       "      <td>3033</td>\n",
       "    </tr>\n",
       "    <tr>\n",
       "      <td>0</td>\n",
       "      <td>1123</td>\n",
       "      <td>628028</td>\n",
       "      <td>3299</td>\n",
       "    </tr>\n",
       "  </tbody>\n",
       "</table>\n",
       "</div>"
      ],
      "text/plain": [
       "    Agencia_ID   count  NumeroClientes\n",
       "40        1160      26               2\n",
       "38        1171    4274              33\n",
       "37        1173   10162              79\n",
       "35        1172   14483              85\n",
       "24        1129   42591              93\n",
       "33        1170   19456              96\n",
       "28        1168   37135             112\n",
       "25        1114   41305             119\n",
       "23        1142   43259             120\n",
       "34        1159   15705             149\n",
       "30        1155   23759             164\n",
       "31        1147   21361             193\n",
       "21        1146   49699             257\n",
       "39        1167    3759             268\n",
       "36        1156   13083             285\n",
       "20        1152   58951             304\n",
       "19        1150   96302             401\n",
       "32        1164   20423             487\n",
       "26        1143   39785             732\n",
       "29        1165   24247             824\n",
       "27        1139   37323             887\n",
       "22        1110   47030            1145\n",
       "18        1113  173302            1348\n",
       "17        1112  304293            1376\n",
       "16        1138  304710            1432\n",
       "9         1111  386466            1782\n",
       "14        1124  333345            1821\n",
       "13        1127  341861            1853\n",
       "6         1120  400331            2023\n",
       "7         1137  397904            2068\n",
       "15        1118  308884            2132\n",
       "3         1121  464152            2209\n",
       "4         1116  414730            2263\n",
       "10        1153  378481            2371\n",
       "5         1130  401189            2375\n",
       "11        1119  355878            2492\n",
       "8         1122  394903            2690\n",
       "12        1140  349905            2741\n",
       "2         1117  477355            2900\n",
       "1         1126  494583            3033\n",
       "0         1123  628028            3299"
      ]
     },
     "execution_count": 32,
     "metadata": {},
     "output_type": "execute_result"
    }
   ],
   "source": [
    "dist_agencias.sort_values(['NumeroClientes'])"
   ]
  },
  {
   "cell_type": "markdown",
   "metadata": {},
   "source": [
    "Agencia 1123 como referente, ya que es la que tiene más participación tanto por su número de clientes como por presencia en el mercado"
   ]
  },
  {
   "cell_type": "code",
   "execution_count": 33,
   "metadata": {},
   "outputs": [],
   "source": [
    "agencia_1123 = train[train[\"Agencia_ID\"] == 1123]"
   ]
  },
  {
   "cell_type": "code",
   "execution_count": 34,
   "metadata": {},
   "outputs": [],
   "source": [
    "seleccion_sample = agencia_1123.groupby('NombreCliente').NombreCliente.count().reset_index(name='count').sort_values(['count'], ascending=False)\n"
   ]
  },
  {
   "cell_type": "code",
   "execution_count": 35,
   "metadata": {},
   "outputs": [
    {
     "data": {
      "text/plain": [
       "(3298, 2)"
      ]
     },
     "execution_count": 35,
     "metadata": {},
     "output_type": "execute_result"
    }
   ],
   "source": [
    "seleccion_sample  =seleccion_sample[seleccion_sample[\"NombreCliente\"] != \"no identificado\"]\n",
    "seleccion_sample.shape"
   ]
  },
  {
   "cell_type": "code",
   "execution_count": 36,
   "metadata": {},
   "outputs": [
    {
     "data": {
      "text/plain": [
       "count    3298.000000\n",
       "mean      156.339903\n",
       "std       285.003666\n",
       "min         1.000000\n",
       "25%        36.000000\n",
       "50%        89.000000\n",
       "75%       173.750000\n",
       "max      6981.000000\n",
       "Name: count, dtype: float64"
      ]
     },
     "execution_count": 36,
     "metadata": {},
     "output_type": "execute_result"
    }
   ],
   "source": [
    "seleccion_sample[\"count\"].describe()"
   ]
  },
  {
   "cell_type": "code",
   "execution_count": 37,
   "metadata": {},
   "outputs": [
    {
     "data": {
      "text/plain": [
       "NombreCliente    lupitala ventanitamaryalexla pasaditala escond...\n",
       "count                                                        40317\n",
       "dtype: object"
      ]
     },
     "execution_count": 37,
     "metadata": {},
     "output_type": "execute_result"
    }
   ],
   "source": [
    "\n",
    "seleccion_sample[seleccion_sample[\"count\"]>2000].sum()"
   ]
  },
  {
   "cell_type": "code",
   "execution_count": 38,
   "metadata": {},
   "outputs": [
    {
     "data": {
      "text/plain": [
       "NombreCliente    lupitala ventanitamaryalexla pasaditala escond...\n",
       "count                                                       515609\n",
       "dtype: object"
      ]
     },
     "execution_count": 38,
     "metadata": {},
     "output_type": "execute_result"
    }
   ],
   "source": [
    "seleccion_sample.sum()"
   ]
  },
  {
   "cell_type": "code",
   "execution_count": 39,
   "metadata": {},
   "outputs": [
    {
     "data": {
      "text/plain": [
       "13"
      ]
     },
     "execution_count": 39,
     "metadata": {},
     "output_type": "execute_result"
    }
   ],
   "source": [
    "len(seleccion_sample[seleccion_sample[\"count\"]>2000])"
   ]
  },
  {
   "cell_type": "code",
   "execution_count": 40,
   "metadata": {},
   "outputs": [
    {
     "data": {
      "text/plain": [
       "0.07819297180615543"
      ]
     },
     "execution_count": 40,
     "metadata": {},
     "output_type": "execute_result"
    }
   ],
   "source": [
    "40317/515609"
   ]
  },
  {
   "cell_type": "markdown",
   "metadata": {},
   "source": [
    "13 clientes contien el 7% de las entregas por la agencia 1123, por lo que son una representación significativa"
   ]
  },
  {
   "cell_type": "code",
   "execution_count": 41,
   "metadata": {},
   "outputs": [
    {
     "data": {
      "text/html": [
       "<div>\n",
       "<style scoped>\n",
       "    .dataframe tbody tr th:only-of-type {\n",
       "        vertical-align: middle;\n",
       "    }\n",
       "\n",
       "    .dataframe tbody tr th {\n",
       "        vertical-align: top;\n",
       "    }\n",
       "\n",
       "    .dataframe thead th {\n",
       "        text-align: right;\n",
       "    }\n",
       "</style>\n",
       "<table border=\"1\" class=\"dataframe\">\n",
       "  <thead>\n",
       "    <tr style=\"text-align: right;\">\n",
       "      <th></th>\n",
       "      <th>Semana</th>\n",
       "      <th>Agencia_ID</th>\n",
       "      <th>Canal_ID</th>\n",
       "      <th>Ruta_SAK</th>\n",
       "      <th>Cliente_ID</th>\n",
       "      <th>Producto_ID</th>\n",
       "      <th>Venta_uni_hoy</th>\n",
       "      <th>Venta_hoy</th>\n",
       "      <th>Dev_uni_proxima</th>\n",
       "      <th>Dev_proxima</th>\n",
       "      <th>Demanda_uni_equil</th>\n",
       "      <th>NombreCliente</th>\n",
       "      <th>NombreProducto</th>\n",
       "      <th>Town</th>\n",
       "      <th>State</th>\n",
       "    </tr>\n",
       "  </thead>\n",
       "  <tbody>\n",
       "    <tr>\n",
       "      <td>659180</td>\n",
       "      <td>3</td>\n",
       "      <td>1123</td>\n",
       "      <td>1</td>\n",
       "      <td>1001</td>\n",
       "      <td>201333</td>\n",
       "      <td>73</td>\n",
       "      <td>2</td>\n",
       "      <td>42.64</td>\n",
       "      <td>0</td>\n",
       "      <td>0.0</td>\n",
       "      <td>2</td>\n",
       "      <td>mary</td>\n",
       "      <td>pan multigrano linaza 540g bim 73</td>\n",
       "      <td>2094 chalco_bm</td>\n",
       "      <td>estado de mexico</td>\n",
       "    </tr>\n",
       "    <tr>\n",
       "      <td>659181</td>\n",
       "      <td>3</td>\n",
       "      <td>1123</td>\n",
       "      <td>1</td>\n",
       "      <td>1001</td>\n",
       "      <td>201333</td>\n",
       "      <td>1109</td>\n",
       "      <td>4</td>\n",
       "      <td>60.04</td>\n",
       "      <td>0</td>\n",
       "      <td>0.0</td>\n",
       "      <td>4</td>\n",
       "      <td>mary</td>\n",
       "      <td>pan blanco chico 360g bim 1109</td>\n",
       "      <td>2094 chalco_bm</td>\n",
       "      <td>estado de mexico</td>\n",
       "    </tr>\n",
       "    <tr>\n",
       "      <td>659182</td>\n",
       "      <td>3</td>\n",
       "      <td>1123</td>\n",
       "      <td>1</td>\n",
       "      <td>1001</td>\n",
       "      <td>201333</td>\n",
       "      <td>1125</td>\n",
       "      <td>6</td>\n",
       "      <td>57.60</td>\n",
       "      <td>0</td>\n",
       "      <td>0.0</td>\n",
       "      <td>6</td>\n",
       "      <td>mary</td>\n",
       "      <td>tortillinas 10p 255g tr 1125</td>\n",
       "      <td>2094 chalco_bm</td>\n",
       "      <td>estado de mexico</td>\n",
       "    </tr>\n",
       "    <tr>\n",
       "      <td>659183</td>\n",
       "      <td>3</td>\n",
       "      <td>1123</td>\n",
       "      <td>1</td>\n",
       "      <td>1001</td>\n",
       "      <td>201333</td>\n",
       "      <td>1129</td>\n",
       "      <td>7</td>\n",
       "      <td>123.20</td>\n",
       "      <td>0</td>\n",
       "      <td>0.0</td>\n",
       "      <td>7</td>\n",
       "      <td>mary</td>\n",
       "      <td>tortillinas 20p 510g tr 1129</td>\n",
       "      <td>2094 chalco_bm</td>\n",
       "      <td>estado de mexico</td>\n",
       "    </tr>\n",
       "    <tr>\n",
       "      <td>659184</td>\n",
       "      <td>3</td>\n",
       "      <td>1123</td>\n",
       "      <td>1</td>\n",
       "      <td>1001</td>\n",
       "      <td>201333</td>\n",
       "      <td>1146</td>\n",
       "      <td>5</td>\n",
       "      <td>106.95</td>\n",
       "      <td>0</td>\n",
       "      <td>0.0</td>\n",
       "      <td>5</td>\n",
       "      <td>mary</td>\n",
       "      <td>pan integral 675g bim 1146</td>\n",
       "      <td>2094 chalco_bm</td>\n",
       "      <td>estado de mexico</td>\n",
       "    </tr>\n",
       "  </tbody>\n",
       "</table>\n",
       "</div>"
      ],
      "text/plain": [
       "        Semana  Agencia_ID  Canal_ID  Ruta_SAK  Cliente_ID  Producto_ID  \\\n",
       "659180       3        1123         1      1001      201333           73   \n",
       "659181       3        1123         1      1001      201333         1109   \n",
       "659182       3        1123         1      1001      201333         1125   \n",
       "659183       3        1123         1      1001      201333         1129   \n",
       "659184       3        1123         1      1001      201333         1146   \n",
       "\n",
       "        Venta_uni_hoy  Venta_hoy  Dev_uni_proxima  Dev_proxima  \\\n",
       "659180              2      42.64                0          0.0   \n",
       "659181              4      60.04                0          0.0   \n",
       "659182              6      57.60                0          0.0   \n",
       "659183              7     123.20                0          0.0   \n",
       "659184              5     106.95                0          0.0   \n",
       "\n",
       "        Demanda_uni_equil NombreCliente                     NombreProducto  \\\n",
       "659180                  2          mary  pan multigrano linaza 540g bim 73   \n",
       "659181                  4          mary     pan blanco chico 360g bim 1109   \n",
       "659182                  6          mary       tortillinas 10p 255g tr 1125   \n",
       "659183                  7          mary       tortillinas 20p 510g tr 1129   \n",
       "659184                  5          mary         pan integral 675g bim 1146   \n",
       "\n",
       "                  Town             State  \n",
       "659180  2094 chalco_bm  estado de mexico  \n",
       "659181  2094 chalco_bm  estado de mexico  \n",
       "659182  2094 chalco_bm  estado de mexico  \n",
       "659183  2094 chalco_bm  estado de mexico  \n",
       "659184  2094 chalco_bm  estado de mexico  "
      ]
     },
     "execution_count": 41,
     "metadata": {},
     "output_type": "execute_result"
    }
   ],
   "source": [
    "sample_cols = list(seleccion_sample[seleccion_sample[\"count\"]>2000].NombreCliente)\n",
    "agencia_1123_sample = agencia_1123[agencia_1123['NombreCliente'].isin(sample_cols)]\n",
    "agencia_1123_sample.head()"
   ]
  },
  {
   "cell_type": "markdown",
   "metadata": {},
   "source": [
    "## Top 3 productos"
   ]
  },
  {
   "cell_type": "code",
   "execution_count": 42,
   "metadata": {},
   "outputs": [
    {
     "data": {
      "text/html": [
       "<div>\n",
       "<style scoped>\n",
       "    .dataframe tbody tr th:only-of-type {\n",
       "        vertical-align: middle;\n",
       "    }\n",
       "\n",
       "    .dataframe tbody tr th {\n",
       "        vertical-align: top;\n",
       "    }\n",
       "\n",
       "    .dataframe thead th {\n",
       "        text-align: right;\n",
       "    }\n",
       "</style>\n",
       "<table border=\"1\" class=\"dataframe\">\n",
       "  <thead>\n",
       "    <tr style=\"text-align: right;\">\n",
       "      <th></th>\n",
       "      <th>NombreProducto</th>\n",
       "      <th>count</th>\n",
       "    </tr>\n",
       "  </thead>\n",
       "  <tbody>\n",
       "    <tr>\n",
       "      <td>84</td>\n",
       "      <td>nito 1p 62g bim 1278</td>\n",
       "      <td>1710</td>\n",
       "    </tr>\n",
       "    <tr>\n",
       "      <td>77</td>\n",
       "      <td>mantecadas vainilla 4p 125g bim 1240</td>\n",
       "      <td>1541</td>\n",
       "    </tr>\n",
       "    <tr>\n",
       "      <td>116</td>\n",
       "      <td>rebanada 2p 55g bim 1284</td>\n",
       "      <td>1541</td>\n",
       "    </tr>\n",
       "  </tbody>\n",
       "</table>\n",
       "</div>"
      ],
      "text/plain": [
       "                           NombreProducto  count\n",
       "84                   nito 1p 62g bim 1278   1710\n",
       "77   mantecadas vainilla 4p 125g bim 1240   1541\n",
       "116              rebanada 2p 55g bim 1284   1541"
      ]
     },
     "execution_count": 42,
     "metadata": {},
     "output_type": "execute_result"
    }
   ],
   "source": [
    "agencia_1123_sample.groupby('NombreProducto').NombreProducto.count().reset_index(name='count').sort_values(['count'], ascending=False).head(3)"
   ]
  },
  {
   "cell_type": "code",
   "execution_count": 43,
   "metadata": {},
   "outputs": [],
   "source": [
    "top_productos = list(agencia_1123_sample.groupby('NombreProducto').NombreProducto.count().reset_index(name='count').sort_values(['count'], ascending=False).head(3).NombreProducto\n",
    ")"
   ]
  },
  {
   "cell_type": "markdown",
   "metadata": {},
   "source": [
    "## Predicción"
   ]
  },
  {
   "cell_type": "markdown",
   "metadata": {},
   "source": [
    "#### Producto: nito 1p 62g bim 1278"
   ]
  },
  {
   "cell_type": "code",
   "execution_count": 45,
   "metadata": {},
   "outputs": [],
   "source": [
    "nito = agencia_1123_sample[agencia_1123_sample[\"NombreProducto\"]== top_productos[0]]\n",
    "test_nito = test[(test[\"NombreProducto\"] == top_productos[0]) &  (test['NombreCliente'].isin(sample_cols)) & (test[\"Agencia_ID\"] == 1123)]\n",
    "test_nito = test_nito[[\"Semana\", \"Cliente_ID\", \"Producto_ID\"]]"
   ]
  },
  {
   "cell_type": "code",
   "execution_count": 46,
   "metadata": {},
   "outputs": [
    {
     "name": "stdout",
     "output_type": "stream",
     "text": [
      "(1710, 3) (1710,)\n",
      "(1368, 3) (342, 3)\n",
      "[14:12:58] WARNING: /Users/travis/build/dmlc/xgboost/src/objective/regression_obj.cu:174: reg:linear is now deprecated in favor of reg:squarederror.\n",
      "[0]\tvalidation_0-rmse:13.76823\n",
      "[1]\tvalidation_0-rmse:12.37430\n",
      "[2]\tvalidation_0-rmse:11.56196\n",
      "[3]\tvalidation_0-rmse:11.02112\n",
      "[4]\tvalidation_0-rmse:10.69273\n",
      "[5]\tvalidation_0-rmse:10.61698\n",
      "[6]\tvalidation_0-rmse:10.48308\n",
      "[7]\tvalidation_0-rmse:10.22527\n",
      "[8]\tvalidation_0-rmse:10.08502\n",
      "[9]\tvalidation_0-rmse:10.02575\n",
      "[10]\tvalidation_0-rmse:10.04156\n",
      "[11]\tvalidation_0-rmse:9.98437\n",
      "[12]\tvalidation_0-rmse:9.81225\n",
      "[13]\tvalidation_0-rmse:9.80141\n",
      "[14]\tvalidation_0-rmse:9.71710\n",
      "[15]\tvalidation_0-rmse:9.71711\n",
      "[16]\tvalidation_0-rmse:9.59360\n",
      "[17]\tvalidation_0-rmse:9.48065\n",
      "[18]\tvalidation_0-rmse:9.43764\n",
      "[19]\tvalidation_0-rmse:9.44406\n",
      "[20]\tvalidation_0-rmse:9.43378\n",
      "[21]\tvalidation_0-rmse:9.31224\n",
      "[22]\tvalidation_0-rmse:9.28316\n",
      "[23]\tvalidation_0-rmse:9.19271\n",
      "[24]\tvalidation_0-rmse:9.17321\n",
      "[25]\tvalidation_0-rmse:9.16352\n",
      "[26]\tvalidation_0-rmse:9.16713\n",
      "[27]\tvalidation_0-rmse:9.13877\n",
      "[28]\tvalidation_0-rmse:9.11918\n",
      "[29]\tvalidation_0-rmse:9.16183\n",
      "[30]\tvalidation_0-rmse:9.14726\n",
      "[31]\tvalidation_0-rmse:9.15701\n",
      "[32]\tvalidation_0-rmse:9.16740\n",
      "[33]\tvalidation_0-rmse:9.14751\n",
      "[34]\tvalidation_0-rmse:9.11927\n",
      "[35]\tvalidation_0-rmse:9.04641\n",
      "[36]\tvalidation_0-rmse:9.06096\n",
      "[37]\tvalidation_0-rmse:9.05593\n",
      "[38]\tvalidation_0-rmse:9.06223\n",
      "[39]\tvalidation_0-rmse:9.00829\n",
      "[40]\tvalidation_0-rmse:8.95668\n",
      "[41]\tvalidation_0-rmse:8.95248\n",
      "[42]\tvalidation_0-rmse:8.95367\n",
      "[43]\tvalidation_0-rmse:8.95468\n",
      "[44]\tvalidation_0-rmse:8.97256\n",
      "[45]\tvalidation_0-rmse:8.92135\n",
      "[46]\tvalidation_0-rmse:8.93921\n",
      "[47]\tvalidation_0-rmse:8.91151\n",
      "[48]\tvalidation_0-rmse:8.93291\n",
      "[49]\tvalidation_0-rmse:8.92896\n",
      "[50]\tvalidation_0-rmse:8.92985\n",
      "[51]\tvalidation_0-rmse:8.93999\n",
      "[52]\tvalidation_0-rmse:8.94996\n",
      "[53]\tvalidation_0-rmse:8.90450\n",
      "[54]\tvalidation_0-rmse:8.88330\n",
      "[55]\tvalidation_0-rmse:8.91416\n",
      "[56]\tvalidation_0-rmse:8.91738\n",
      "[57]\tvalidation_0-rmse:8.93579\n",
      "[58]\tvalidation_0-rmse:8.90427\n",
      "[59]\tvalidation_0-rmse:8.91005\n",
      "[60]\tvalidation_0-rmse:8.89371\n",
      "[61]\tvalidation_0-rmse:8.87240\n",
      "[62]\tvalidation_0-rmse:8.84477\n",
      "[63]\tvalidation_0-rmse:8.85176\n",
      "[64]\tvalidation_0-rmse:8.84077\n",
      "[65]\tvalidation_0-rmse:8.83805\n",
      "[66]\tvalidation_0-rmse:8.84052\n",
      "[67]\tvalidation_0-rmse:8.84063\n",
      "[68]\tvalidation_0-rmse:8.83955\n",
      "[69]\tvalidation_0-rmse:8.84593\n",
      "[70]\tvalidation_0-rmse:8.84726\n",
      "[71]\tvalidation_0-rmse:8.84538\n",
      "[72]\tvalidation_0-rmse:8.81403\n",
      "[73]\tvalidation_0-rmse:8.82063\n",
      "[74]\tvalidation_0-rmse:8.82744\n",
      "[75]\tvalidation_0-rmse:8.85412\n",
      "[76]\tvalidation_0-rmse:8.85891\n",
      "[77]\tvalidation_0-rmse:8.85400\n",
      "[78]\tvalidation_0-rmse:8.84723\n",
      "[79]\tvalidation_0-rmse:8.85761\n",
      "[80]\tvalidation_0-rmse:8.85852\n",
      "[81]\tvalidation_0-rmse:8.85061\n",
      "[82]\tvalidation_0-rmse:8.85197\n",
      "[83]\tvalidation_0-rmse:8.85139\n",
      "[84]\tvalidation_0-rmse:8.86396\n",
      "[85]\tvalidation_0-rmse:8.85938\n",
      "[86]\tvalidation_0-rmse:8.83919\n",
      "[87]\tvalidation_0-rmse:8.83232\n",
      "[88]\tvalidation_0-rmse:8.84201\n",
      "[89]\tvalidation_0-rmse:8.85543\n",
      "[90]\tvalidation_0-rmse:8.87649\n",
      "[91]\tvalidation_0-rmse:8.87801\n",
      "[92]\tvalidation_0-rmse:8.87815\n",
      "[93]\tvalidation_0-rmse:8.87137\n",
      "[94]\tvalidation_0-rmse:8.84940\n",
      "[95]\tvalidation_0-rmse:8.85173\n",
      "[96]\tvalidation_0-rmse:8.85734\n",
      "[97]\tvalidation_0-rmse:8.85846\n",
      "[98]\tvalidation_0-rmse:8.86933\n",
      "[99]\tvalidation_0-rmse:8.86887\n",
      "[14:12:58] WARNING: /Users/travis/build/dmlc/xgboost/src/objective/regression_obj.cu:174: reg:linear is now deprecated in favor of reg:squarederror.\n",
      "\n",
      "Mean Square error\"  78.65679310822544\n"
     ]
    }
   ],
   "source": [
    "ids = test_nito['Cliente_ID']\n",
    "\n",
    "#Separación del target\n",
    "y = nito['Demanda_uni_equil']\n",
    "X = nito[test_nito.columns.values]\n",
    "print(X.shape, y.shape)\n",
    "\n",
    "# split into train and test\n",
    "X_train, X_test, y_train, y_test = train_test_split(X, y, test_size=0.2, random_state=1729)\n",
    "print(X_train.shape, X_test.shape)\n",
    "\n",
    "# Xgboost clasificador logistico\n",
    "\n",
    "rmsle  = make_scorer(rmsle_func, greater_is_better=False)\n",
    "xlf = xgb.XGBRegressor(objective=\"reg:linear\", seed=150237)\n",
    "xlf.fit(X_train, y_train, eval_metric='rmse', verbose = True, eval_set = [(X_test, y_test)])\n",
    "\n",
    "# predicciones\n",
    "preds = xlf.predict(X_test)\n",
    "\n",
    "print('\\nMean Square error\" ', mean_squared_error(y_test,preds))\n",
    "\n",
    "# submission\n",
    "test_preds = np.around(xlf.predict(test_nito))\n",
    "\n"
   ]
  },
  {
   "cell_type": "code",
   "execution_count": 47,
   "metadata": {},
   "outputs": [],
   "source": [
    "nito_submission = pd.DataFrame({\"Cliente_ID\":ids, \"Demanda_uni_equil\": test_preds.round()})\n",
    "test_nito_sub = test[(test[\"NombreProducto\"] == top_productos[0]) &  (test['NombreCliente'].isin(sample_cols)) & (test[\"Agencia_ID\"] == 1123)]\n",
    "#df con predicciones del producto\n",
    "nito_pred = pd.merge(nito_submission,test_nito_sub, how = \"right\",on = \"Cliente_ID\")"
   ]
  },
  {
   "cell_type": "markdown",
   "metadata": {},
   "source": [
    "#### Producto: mantecadas vainilla 4p 125g bim 1240"
   ]
  },
  {
   "cell_type": "code",
   "execution_count": 48,
   "metadata": {},
   "outputs": [
    {
     "name": "stdout",
     "output_type": "stream",
     "text": [
      "(1541, 3) (1541,)\n",
      "(1232, 3) (309, 3)\n",
      "[14:13:51] WARNING: /Users/travis/build/dmlc/xgboost/src/objective/regression_obj.cu:174: reg:linear is now deprecated in favor of reg:squarederror.\n",
      "[0]\tvalidation_0-rmse:4.47117\n",
      "[1]\tvalidation_0-rmse:3.96938\n",
      "[2]\tvalidation_0-rmse:3.65268\n",
      "[3]\tvalidation_0-rmse:3.44894\n",
      "[4]\tvalidation_0-rmse:3.34286\n",
      "[5]\tvalidation_0-rmse:3.22687\n",
      "[6]\tvalidation_0-rmse:3.17726\n",
      "[7]\tvalidation_0-rmse:3.14938\n",
      "[8]\tvalidation_0-rmse:3.14198\n",
      "[9]\tvalidation_0-rmse:3.12560\n",
      "[10]\tvalidation_0-rmse:3.11094\n",
      "[11]\tvalidation_0-rmse:3.10905\n",
      "[12]\tvalidation_0-rmse:3.09671\n",
      "[13]\tvalidation_0-rmse:3.08973\n",
      "[14]\tvalidation_0-rmse:3.09467\n",
      "[15]\tvalidation_0-rmse:3.10416\n",
      "[16]\tvalidation_0-rmse:3.09420\n",
      "[17]\tvalidation_0-rmse:3.06905\n",
      "[18]\tvalidation_0-rmse:3.07119\n",
      "[19]\tvalidation_0-rmse:3.06530\n",
      "[20]\tvalidation_0-rmse:3.04359\n",
      "[21]\tvalidation_0-rmse:3.04069\n",
      "[22]\tvalidation_0-rmse:3.04375\n",
      "[23]\tvalidation_0-rmse:3.02959\n",
      "[24]\tvalidation_0-rmse:3.02561\n",
      "[25]\tvalidation_0-rmse:3.01860\n",
      "[26]\tvalidation_0-rmse:3.02440\n",
      "[27]\tvalidation_0-rmse:3.02630\n",
      "[28]\tvalidation_0-rmse:3.02164\n",
      "[29]\tvalidation_0-rmse:3.02052\n",
      "[30]\tvalidation_0-rmse:3.01485\n",
      "[31]\tvalidation_0-rmse:3.01268\n",
      "[32]\tvalidation_0-rmse:2.99794\n",
      "[33]\tvalidation_0-rmse:2.99128\n",
      "[34]\tvalidation_0-rmse:3.00092\n",
      "[35]\tvalidation_0-rmse:3.00271\n",
      "[36]\tvalidation_0-rmse:2.99131\n",
      "[37]\tvalidation_0-rmse:2.99484\n",
      "[38]\tvalidation_0-rmse:2.99789\n",
      "[39]\tvalidation_0-rmse:2.99771\n",
      "[40]\tvalidation_0-rmse:3.00015\n",
      "[41]\tvalidation_0-rmse:2.99455\n",
      "[42]\tvalidation_0-rmse:2.99147\n",
      "[43]\tvalidation_0-rmse:2.99655\n",
      "[44]\tvalidation_0-rmse:2.99499\n",
      "[45]\tvalidation_0-rmse:2.99411\n",
      "[46]\tvalidation_0-rmse:2.98889\n",
      "[47]\tvalidation_0-rmse:2.98102\n",
      "[48]\tvalidation_0-rmse:2.97975\n",
      "[49]\tvalidation_0-rmse:2.97628\n",
      "[50]\tvalidation_0-rmse:2.97265\n",
      "[51]\tvalidation_0-rmse:2.97762\n",
      "[52]\tvalidation_0-rmse:2.97404\n",
      "[53]\tvalidation_0-rmse:2.97661\n",
      "[54]\tvalidation_0-rmse:2.97894\n",
      "[55]\tvalidation_0-rmse:2.98574\n",
      "[56]\tvalidation_0-rmse:2.99006\n",
      "[57]\tvalidation_0-rmse:2.99162\n",
      "[58]\tvalidation_0-rmse:2.99003\n",
      "[59]\tvalidation_0-rmse:2.98767\n",
      "[60]\tvalidation_0-rmse:2.98949\n",
      "[61]\tvalidation_0-rmse:2.99147\n",
      "[62]\tvalidation_0-rmse:2.99615\n",
      "[63]\tvalidation_0-rmse:2.99728\n",
      "[64]\tvalidation_0-rmse:2.99951\n",
      "[65]\tvalidation_0-rmse:3.00243\n",
      "[66]\tvalidation_0-rmse:3.00194\n",
      "[67]\tvalidation_0-rmse:3.00148\n",
      "[68]\tvalidation_0-rmse:2.99936\n",
      "[69]\tvalidation_0-rmse:2.99280\n",
      "[70]\tvalidation_0-rmse:2.99234\n",
      "[71]\tvalidation_0-rmse:2.98534\n",
      "[72]\tvalidation_0-rmse:2.98692\n",
      "[73]\tvalidation_0-rmse:2.99015\n",
      "[74]\tvalidation_0-rmse:2.98736\n",
      "[75]\tvalidation_0-rmse:2.98715\n",
      "[76]\tvalidation_0-rmse:2.98819\n",
      "[77]\tvalidation_0-rmse:2.98790\n",
      "[78]\tvalidation_0-rmse:2.99376\n",
      "[79]\tvalidation_0-rmse:2.99599\n",
      "[80]\tvalidation_0-rmse:3.00224\n",
      "[81]\tvalidation_0-rmse:3.00542\n",
      "[82]\tvalidation_0-rmse:3.00543\n",
      "[83]\tvalidation_0-rmse:3.01066\n",
      "[84]\tvalidation_0-rmse:3.01260\n",
      "[85]\tvalidation_0-rmse:3.01253\n",
      "[86]\tvalidation_0-rmse:3.01468\n",
      "[87]\tvalidation_0-rmse:3.02420\n",
      "[88]\tvalidation_0-rmse:3.02457\n",
      "[89]\tvalidation_0-rmse:3.02349\n",
      "[90]\tvalidation_0-rmse:3.02463\n",
      "[91]\tvalidation_0-rmse:3.02341\n",
      "[92]\tvalidation_0-rmse:3.03108\n",
      "[93]\tvalidation_0-rmse:3.03436\n",
      "[94]\tvalidation_0-rmse:3.03644\n",
      "[95]\tvalidation_0-rmse:3.04320\n",
      "[96]\tvalidation_0-rmse:3.04811\n",
      "[97]\tvalidation_0-rmse:3.05005\n",
      "[98]\tvalidation_0-rmse:3.05249\n",
      "[99]\tvalidation_0-rmse:3.04874\n",
      "[14:13:51] WARNING: /Users/travis/build/dmlc/xgboost/src/objective/regression_obj.cu:174: reg:linear is now deprecated in favor of reg:squarederror.\n",
      "\n",
      "Mean Square error\"  9.294838578399975\n"
     ]
    }
   ],
   "source": [
    "mantecada = agencia_1123_sample[agencia_1123_sample[\"NombreProducto\"]== top_productos[1]]\n",
    "test_mantecada = test[(test[\"NombreProducto\"] == top_productos[1]) &  (test['NombreCliente'].isin(sample_cols)) & (test[\"Agencia_ID\"] == 1123)]\n",
    "test_mantecada = test_mantecada[[\"Semana\", \"Cliente_ID\", \"Producto_ID\"]]\n",
    "\n",
    "\n",
    "ids = test_mantecada['Cliente_ID']\n",
    "\n",
    "#Separación del target\n",
    "y = mantecada['Demanda_uni_equil']\n",
    "X = mantecada[test_mantecada.columns.values]\n",
    "print(X.shape, y.shape)\n",
    "\n",
    "# split into train and test\n",
    "X_train, X_test, y_train, y_test = train_test_split(X, y, test_size=0.2, random_state=1729)\n",
    "print(X_train.shape, X_test.shape)\n",
    "\n",
    "# Xgboost clasificador logistico\n",
    "\n",
    "rmsle  = make_scorer(rmsle_func, greater_is_better=False)\n",
    "xlf = xgb.XGBRegressor(objective=\"reg:linear\", seed=150237)\n",
    "xlf.fit(X_train, y_train, eval_metric='rmse', verbose = True, eval_set = [(X_test, y_test)])\n",
    "\n",
    "# predicciones\n",
    "preds = xlf.predict(X_test)\n",
    "\n",
    "print('\\nMean Square error\" ', mean_squared_error(y_test,preds))\n",
    "\n",
    "# submission\n",
    "test_preds = np.around(xlf.predict(test_mantecada))\n",
    "\n",
    "\n",
    "mantecada_submission = pd.DataFrame({\"Cliente_ID\":ids, \"Demanda_uni_equil\": test_preds.round()})\n",
    "test_mantecada_sub = test[(test[\"NombreProducto\"] == top_productos[1]) &  (test['NombreCliente'].isin(sample_cols)) & (test[\"Agencia_ID\"] == 1123)]\n",
    "#df con predicciones del producto\n",
    "mantecada_pred = pd.merge(mantecada_submission,test_mantecada_sub, how = \"right\",on = \"Cliente_ID\")"
   ]
  },
  {
   "cell_type": "code",
   "execution_count": 49,
   "metadata": {},
   "outputs": [],
   "source": [
    "reb = agencia_1123_sample[agencia_1123_sample[\"NombreProducto\"]== top_productos[2]]\n",
    "test_reb = test[(test[\"NombreProducto\"] == top_productos[2]) &  (test['NombreCliente'].isin(sample_cols)) & (test[\"Agencia_ID\"] == 1123)]\n",
    "test_reb = test_reb[[\"Semana\", \"Cliente_ID\", \"Producto_ID\"]]"
   ]
  },
  {
   "cell_type": "code",
   "execution_count": 50,
   "metadata": {},
   "outputs": [
    {
     "name": "stdout",
     "output_type": "stream",
     "text": [
      "(1541, 3) (1541,)\n",
      "(1232, 3) (309, 3)\n",
      "[14:14:11] WARNING: /Users/travis/build/dmlc/xgboost/src/objective/regression_obj.cu:174: reg:linear is now deprecated in favor of reg:squarederror.\n",
      "[0]\tvalidation_0-rmse:10.31929\n",
      "[1]\tvalidation_0-rmse:8.90476\n",
      "[2]\tvalidation_0-rmse:8.03838\n",
      "[3]\tvalidation_0-rmse:7.62542\n",
      "[4]\tvalidation_0-rmse:7.37077\n",
      "[5]\tvalidation_0-rmse:7.17559\n",
      "[6]\tvalidation_0-rmse:7.10898\n",
      "[7]\tvalidation_0-rmse:7.04929\n",
      "[8]\tvalidation_0-rmse:6.93931\n",
      "[9]\tvalidation_0-rmse:6.91334\n",
      "[10]\tvalidation_0-rmse:6.91074\n",
      "[11]\tvalidation_0-rmse:6.91126\n",
      "[12]\tvalidation_0-rmse:6.93915\n",
      "[13]\tvalidation_0-rmse:6.93044\n",
      "[14]\tvalidation_0-rmse:6.96110\n",
      "[15]\tvalidation_0-rmse:6.92474\n",
      "[16]\tvalidation_0-rmse:6.95338\n",
      "[17]\tvalidation_0-rmse:6.90729\n",
      "[18]\tvalidation_0-rmse:6.89437\n",
      "[19]\tvalidation_0-rmse:6.89622\n",
      "[20]\tvalidation_0-rmse:6.88281\n",
      "[21]\tvalidation_0-rmse:6.87116\n",
      "[22]\tvalidation_0-rmse:6.84126\n",
      "[23]\tvalidation_0-rmse:6.84874\n",
      "[24]\tvalidation_0-rmse:6.88010\n",
      "[25]\tvalidation_0-rmse:6.87448\n",
      "[26]\tvalidation_0-rmse:6.84760\n",
      "[27]\tvalidation_0-rmse:6.85527\n",
      "[28]\tvalidation_0-rmse:6.82862\n",
      "[29]\tvalidation_0-rmse:6.84043\n",
      "[30]\tvalidation_0-rmse:6.85916\n",
      "[31]\tvalidation_0-rmse:6.85585\n",
      "[32]\tvalidation_0-rmse:6.85797\n",
      "[33]\tvalidation_0-rmse:6.86188\n",
      "[34]\tvalidation_0-rmse:6.85845\n",
      "[35]\tvalidation_0-rmse:6.85866\n",
      "[36]\tvalidation_0-rmse:6.87470\n",
      "[37]\tvalidation_0-rmse:6.83742\n",
      "[38]\tvalidation_0-rmse:6.83126\n",
      "[39]\tvalidation_0-rmse:6.83179\n",
      "[40]\tvalidation_0-rmse:6.83186\n",
      "[41]\tvalidation_0-rmse:6.83495\n",
      "[42]\tvalidation_0-rmse:6.83664\n",
      "[43]\tvalidation_0-rmse:6.81765\n",
      "[44]\tvalidation_0-rmse:6.84317\n",
      "[45]\tvalidation_0-rmse:6.85107\n",
      "[46]\tvalidation_0-rmse:6.86663\n",
      "[47]\tvalidation_0-rmse:6.86615\n",
      "[48]\tvalidation_0-rmse:6.87019\n",
      "[49]\tvalidation_0-rmse:6.86338\n",
      "[50]\tvalidation_0-rmse:6.85742\n",
      "[51]\tvalidation_0-rmse:6.85104\n",
      "[52]\tvalidation_0-rmse:6.87805\n",
      "[53]\tvalidation_0-rmse:6.87779\n",
      "[54]\tvalidation_0-rmse:6.88241\n",
      "[55]\tvalidation_0-rmse:6.87395\n",
      "[56]\tvalidation_0-rmse:6.86788\n",
      "[57]\tvalidation_0-rmse:6.87090\n",
      "[58]\tvalidation_0-rmse:6.87436\n",
      "[59]\tvalidation_0-rmse:6.86524\n",
      "[60]\tvalidation_0-rmse:6.86922\n",
      "[61]\tvalidation_0-rmse:6.89242\n",
      "[62]\tvalidation_0-rmse:6.92547\n",
      "[63]\tvalidation_0-rmse:6.92583\n",
      "[64]\tvalidation_0-rmse:6.91855\n",
      "[65]\tvalidation_0-rmse:6.95097\n",
      "[66]\tvalidation_0-rmse:6.96549\n",
      "[67]\tvalidation_0-rmse:6.97253\n",
      "[68]\tvalidation_0-rmse:6.99979\n",
      "[69]\tvalidation_0-rmse:6.99947\n",
      "[70]\tvalidation_0-rmse:7.01504\n",
      "[71]\tvalidation_0-rmse:7.02590\n",
      "[72]\tvalidation_0-rmse:7.03206\n",
      "[73]\tvalidation_0-rmse:7.02304\n",
      "[74]\tvalidation_0-rmse:7.02360\n",
      "[75]\tvalidation_0-rmse:7.02870\n",
      "[76]\tvalidation_0-rmse:7.03853\n",
      "[77]\tvalidation_0-rmse:7.03642\n",
      "[78]\tvalidation_0-rmse:7.04096\n",
      "[79]\tvalidation_0-rmse:7.05339\n",
      "[80]\tvalidation_0-rmse:7.05804\n",
      "[81]\tvalidation_0-rmse:7.06854\n",
      "[82]\tvalidation_0-rmse:7.07142\n",
      "[83]\tvalidation_0-rmse:7.07285\n",
      "[84]\tvalidation_0-rmse:7.07655\n",
      "[85]\tvalidation_0-rmse:7.08102\n",
      "[86]\tvalidation_0-rmse:7.08342\n",
      "[87]\tvalidation_0-rmse:7.10751\n",
      "[88]\tvalidation_0-rmse:7.11461\n",
      "[89]\tvalidation_0-rmse:7.11557\n",
      "[90]\tvalidation_0-rmse:7.11236\n",
      "[91]\tvalidation_0-rmse:7.13069\n",
      "[92]\tvalidation_0-rmse:7.14553\n",
      "[93]\tvalidation_0-rmse:7.14936\n",
      "[94]\tvalidation_0-rmse:7.16446\n",
      "[95]\tvalidation_0-rmse:7.18629\n",
      "[96]\tvalidation_0-rmse:7.19898\n",
      "[97]\tvalidation_0-rmse:7.20026\n",
      "[98]\tvalidation_0-rmse:7.19095\n",
      "[99]\tvalidation_0-rmse:7.19212\n",
      "[14:14:11] WARNING: /Users/travis/build/dmlc/xgboost/src/objective/regression_obj.cu:174: reg:linear is now deprecated in favor of reg:squarederror.\n",
      "\n",
      "Mean Square error\"  51.72666075727862\n"
     ]
    }
   ],
   "source": [
    "ids = test_reb['Cliente_ID']\n",
    "\n",
    "#Separación del target\n",
    "y = reb['Demanda_uni_equil']\n",
    "X = reb[test_reb.columns.values]\n",
    "print(X.shape, y.shape)\n",
    "\n",
    "# split into train and test\n",
    "X_train, X_test, y_train, y_test = train_test_split(X, y, test_size=0.2, random_state=1729)\n",
    "print(X_train.shape, X_test.shape)\n",
    "\n",
    "# Xgboost clasificador logistico\n",
    "\n",
    "rmsle  = make_scorer(rmsle_func, greater_is_better=False)\n",
    "xlf = xgb.XGBRegressor(objective=\"reg:linear\", seed=150237)\n",
    "xlf.fit(X_train, y_train, eval_metric='rmse', verbose = True, eval_set = [(X_test, y_test)])\n",
    "\n",
    "# predicciones\n",
    "preds = xlf.predict(X_test)\n",
    "\n",
    "print('\\nMean Square error\" ', mean_squared_error(y_test,preds))\n",
    "\n",
    "# submission\n",
    "test_preds = np.around(xlf.predict(test_reb))"
   ]
  },
  {
   "cell_type": "code",
   "execution_count": 51,
   "metadata": {},
   "outputs": [],
   "source": [
    "reb_submission = pd.DataFrame({\"Cliente_ID\":ids, \"Demanda_uni_equil\": test_preds.round()})\n",
    "test_reb_sub = test[(test[\"NombreProducto\"] == top_productos[2]) &  (test['NombreCliente'].isin(sample_cols)) & (test[\"Agencia_ID\"] == 1123)]\n",
    "#df con predicciones del producto\n",
    "reb_pred = pd.merge(reb_submission,test_reb_sub, how = \"right\",on = \"Cliente_ID\")"
   ]
  },
  {
   "cell_type": "markdown",
   "metadata": {},
   "source": [
    "Unión de predicciones"
   ]
  },
  {
   "cell_type": "code",
   "execution_count": 52,
   "metadata": {},
   "outputs": [],
   "source": [
    "predicciones_s9 = pd.concat([nito_pred, mantecada_pred, reb_pred])"
   ]
  },
  {
   "cell_type": "markdown",
   "metadata": {},
   "source": [
    "##### Series de tiempo con predicción de semana 9"
   ]
  },
  {
   "cell_type": "code",
   "execution_count": 53,
   "metadata": {},
   "outputs": [],
   "source": [
    "union_s9 = pd.concat([agencia_1123_sample[predicciones_s9.columns.values], predicciones_s9])"
   ]
  },
  {
   "cell_type": "code",
   "execution_count": 54,
   "metadata": {},
   "outputs": [
    {
     "data": {
      "image/png": "[encoded data removed]",
      "text/plain": [
       "<Figure size 432x288 with 1 Axes>"
      ]
     },
     "metadata": {
      "needs_background": "light"
     },
     "output_type": "display_data"
    }
   ],
   "source": [
    "#Cliente lupita Serie de tiempo\n",
    "lupita_nito = union_s9[(union_s9['NombreCliente'] == \"lupita\")  & (union_s9['NombreProducto'] == \"nito 1p 62g bim 1278\") ]\n",
    "#lupita_nito =lupita_nito.drop(['Ruta_SAK', 'Cliente_ID'], axis = 'columns')\n",
    "lupita_nito=lupita_nito.groupby(['Semana', 'NombreProducto', 'NombreCliente','Agencia_ID', 'Canal_ID','Producto_ID', 'Town','State']).agg({\n",
    "                                                       'Demanda_uni_equil':'sum'\n",
    "                                                      })\n",
    "\n",
    "lupita_nito.reset_index(inplace=True) \n",
    "\n",
    "# lupita points\n",
    "x1 = lupita_nito.Semana.values\n",
    "y1 = lupita_nito.Demanda_uni_equil.values\n",
    "plt.plot(x1, y1, label = \"Lupita\")\n",
    "\n",
    "# Set axis.\n",
    "plt.xlabel('Semana')\n",
    "plt.ylabel('Demanda')\n",
    "# Set a title\n",
    "plt.title('Serie de tiempo \\n Producto: nito 1p 62g bim 1278 \\n Agencia: 1123')\n",
    "# show a legend on the plot\n",
    "plt.legend()\n",
    "#\n",
    "plt.show()"
   ]
  },
  {
   "cell_type": "code",
   "execution_count": 56,
   "metadata": {},
   "outputs": [
    {
     "data": {
      "image/png": "[encoded data removed]",
      "text/plain": [
       "<Figure size 432x288 with 1 Axes>"
      ]
     },
     "metadata": {
      "needs_background": "light"
     },
     "output_type": "display_data"
    }
   ],
   "source": [
    "lupita_nito.reset_index(inplace=True) \n",
    "\n",
    "# lupita points\n",
    "x1 = lupita_nito.Semana.values\n",
    "y1 = lupita_nito.Demanda_uni_equil.values\n",
    "plt.plot(x1, y1, label = \"Cliente_ID: 200955\")\n",
    "\n",
    "# Set axis.\n",
    "plt.xlabel('Semana')\n",
    "plt.ylabel('Demanda')\n",
    "# Set a title\n",
    "plt.title('Serie de tiempo \\n Producto: nito 1p 62g bim 1278 \\n Agencia: 1123')\n",
    "# show a legend on the plot\n",
    "plt.legend()\n",
    "#\n",
    "plt.show()"
   ]
  },
  {
   "cell_type": "code",
   "execution_count": null,
   "metadata": {},
   "outputs": [],
   "source": []
  },
  {
   "cell_type": "code",
   "execution_count": null,
   "metadata": {},
   "outputs": [],
   "source": []
  }
 ],
 "metadata": {
  "kernelspec": {
   "display_name": "Python 3",
   "language": "python",
   "name": "python3"
  },
  "language_info": {
   "codemirror_mode": {
    "name": "ipython",
    "version": 3
   },
   "file_extension": ".py",
   "mimetype": "text/x-python",
   "name": "python",
   "nbconvert_exporter": "python",
   "pygments_lexer": "ipython3",
   "version": "3.7.4"
  }
 },
 "nbformat": 4,
 "nbformat_minor": 2
}
